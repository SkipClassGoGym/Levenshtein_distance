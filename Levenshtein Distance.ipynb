{
 "cells": [
  {
   "cell_type": "code",
   "execution_count": 17,
   "metadata": {},
   "outputs": [
    {
     "name": "stdout",
     "output_type": "stream",
     "text": [
      "012345\n",
      "101234\n",
      "211233\n",
      "322123\n",
      "433223\n",
      "3\n"
     ]
    }
   ],
   "source": [
    "# Levenshtein Distance\n",
    "def levenshtein_distance(source , target):\n",
    "    row = len(source) + 1\n",
    "    col = len(target) + 1\n",
    "    \n",
    "    #create matrix\n",
    "    distance = [[0]*col for _ in range (row)]\n",
    "\n",
    "    #fill value\n",
    "    \n",
    "    for r in range (row):\n",
    "        distance[r][0] = r\n",
    "    for c in range (col):\n",
    "        distance[0][c] = c\n",
    "    \n",
    "    #compute \n",
    "\n",
    "    del_cost = 0 \n",
    "    ins_cost = 0\n",
    "    sub_cost = 0\n",
    "\n",
    "    for r in range (1, row):\n",
    "        for c in range (1, col):\n",
    "            if source[r - 1] == target[c - 1]:\n",
    "                distance[r][c] = distance[r - 1][c - 1]\n",
    "            else: \n",
    "                del_cost = distance[r - 1][c]\n",
    "                ins_cost = distance[r][c - 1]\n",
    "                sub_cost = distance[r - 1][c - 1]\n",
    "                min_cost = min(del_cost, ins_cost, sub_cost) + 1\n",
    "                distance[r][c] = min_cost   \n",
    "    #test        \n",
    "    for r in range (row):\n",
    "        for c in range (col):\n",
    "            print(distance[r][c], end = '')\n",
    "        print()\n",
    "    return distance[-1][-1]\n",
    "source = 'hola'\n",
    "target = 'hello'\n",
    "print(levenshtein_distance(source, target))"
   ]
  }
 ],
 "metadata": {
  "kernelspec": {
   "display_name": "Python 3",
   "language": "python",
   "name": "python3"
  },
  "language_info": {
   "codemirror_mode": {
    "name": "ipython",
    "version": 3
   },
   "file_extension": ".py",
   "mimetype": "text/x-python",
   "name": "python",
   "nbconvert_exporter": "python",
   "pygments_lexer": "ipython3",
   "version": "3.12.4"
  }
 },
 "nbformat": 4,
 "nbformat_minor": 2
}
